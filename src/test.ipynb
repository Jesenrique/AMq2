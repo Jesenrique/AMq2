{
 "cells": [
  {
   "cell_type": "code",
   "execution_count": 9,
   "metadata": {},
   "outputs": [],
   "source": [
    "import numpy as np\n",
    "from sklearn.datasets import load_iris\n",
    "from sklearn.ensemble import RandomForestRegressor\n",
    "from sklearn.metrics import accuracy_score\n",
    "from sklearn.model_selection import train_test_split\n",
    "from sklearn.model_selection import cross_val_score\n",
    "import optuna\n",
    "import pandas as pd"
   ]
  },
  {
   "cell_type": "code",
   "execution_count": 3,
   "metadata": {},
   "outputs": [],
   "source": [
    "input_path = 'C:\\\\Users\\\\Jesus\\\\Documents\\\\CEIA\\\\Aprendizaje de máquina 2\\\\Material de clase\\\\TP\\\\TP-AMq2\\\\data\\\\preprocessed_data.csv'\n"
   ]
  },
  {
   "cell_type": "code",
   "execution_count": 5,
   "metadata": {},
   "outputs": [],
   "source": [
    "df=pd.read_csv(input_path)"
   ]
  },
  {
   "cell_type": "code",
   "execution_count": 18,
   "metadata": {},
   "outputs": [
    {
     "name": "stderr",
     "output_type": "stream",
     "text": [
      "C:\\Users\\Jesus\\AppData\\Local\\Temp\\ipykernel_12380\\3423202818.py:9: SettingWithCopyWarning: \n",
      "A value is trying to be set on a copy of a slice from a DataFrame\n",
      "\n",
      "See the caveats in the documentation: https://pandas.pydata.org/pandas-docs/stable/user_guide/indexing.html#returning-a-view-versus-a-copy\n",
      "  df_train.drop(['Set'], axis=1, inplace=True)\n",
      "C:\\Users\\Jesus\\AppData\\Local\\Temp\\ipykernel_12380\\3423202818.py:10: SettingWithCopyWarning: \n",
      "A value is trying to be set on a copy of a slice from a DataFrame\n",
      "\n",
      "See the caveats in the documentation: https://pandas.pydata.org/pandas-docs/stable/user_guide/indexing.html#returning-a-view-versus-a-copy\n",
      "  df_test.drop(['Item_Outlet_Sales','Set'], axis=1, inplace=True)\n"
     ]
    }
   ],
   "source": [
    "# Eliminación de variables que no contribuyen a la predicción por ser muy específicas\n",
    "dataset = df.drop(columns=['Item_Identifier', 'Outlet_Identifier'])\n",
    "\n",
    "# División del dataset de train y test\n",
    "df_train = dataset.loc[dataset['Set'] == 'train']\n",
    "df_test = dataset.loc[dataset['Set'] == 'test']\n",
    "\n",
    "# Eliminando columnas sin datos\n",
    "df_train.drop(['Set'], axis=1, inplace=True)\n",
    "df_test.drop(['Item_Outlet_Sales','Set'], axis=1, inplace=True)\n",
    "\n",
    "# División de dataset de entrenaimento y validación\n",
    "X = df_train.drop(columns='Item_Outlet_Sales') #[['Item_Weight', 'Item_MRP', 'Outlet_Establishment_Year', 'Outlet_Size', 'Outlet_Location_Type']] # .drop(columns='Item_Outlet_Sales')\n",
    "\n",
    "\n",
    "x_train, x_val, y_train,y_val = train_test_split(X, df_train['Item_Outlet_Sales'], test_size = 0.3, random_state=11)\n",
    "#sampler = optuna.samplers.RandomSampler(seed=42)\n",
    "\n",
    "\n",
    "def objective(trial):\n",
    "    \"\"\"\n",
    "    Objective function for optimizing hyperparameters of a RandomForestClassifier using Optuna.\n",
    "    \n",
    "    Args:\n",
    "        trial: A `Trial` object from Optuna that contains the state of the optimization trial.\n",
    "    \n",
    "    Returns:\n",
    "        The accuracy score of the RandomForestClassifier using the hyperparameters suggested by Optuna.\n",
    "    \"\"\"\n",
    "    # Definir los hiperparámetros a optimizar\n",
    "    n_estimators = trial.suggest_int('n_estimators', 5, 500)\n",
    "    max_depth = trial.suggest_int('max_depth', 2, 500)\n",
    "    min_samples_split = trial.suggest_float(\"min_samples_split\", 0.01, 1)\n",
    "    min_samples_leaf = trial.suggest_int('min_samples_leaf', 1, 10)\n",
    "    criterion = trial.suggest_categorical(\"criterion\", ['poisson','squared_error'])\n",
    "    \n",
    "    # Crear el clasificador con los hiperparámetros sugeridos por Optuna\n",
    "    clf = RandomForestRegressor(\n",
    "                                    n_estimators=n_estimators,\n",
    "                                    max_depth=max_depth,\n",
    "                                    min_samples_split=min_samples_split,\n",
    "                                    min_samples_leaf=min_samples_leaf,\n",
    "                                    criterion=criterion\n",
    "                                    )\n",
    "    \n",
    "    # Entrenar el clasificador y calcular la precisión en el conjunto de prueba\n",
    "    clf.fit(x_train, y_train)\n",
    "    #y_pred = clf.predict(X_test)\n",
    "    #score = accuracy_score(y_test, y_pred)\n",
    "\n",
    "    score = cross_val_score(clf, x_train, y_train, cv=3)\n",
    "    accuracy = score.mean()\n",
    "\n",
    "    return accuracy\n"
   ]
  },
  {
   "cell_type": "code",
   "execution_count": 19,
   "metadata": {},
   "outputs": [
    {
     "name": "stderr",
     "output_type": "stream",
     "text": [
      "[I 2023-06-13 20:43:15,950] A new study created in memory with name: no-name-1911550e-febf-4a8d-9396-882017345fba\n",
      "[I 2023-06-13 20:43:17,122] Trial 0 finished with value: -0.0009477553455904767 and parameters: {'n_estimators': 190, 'max_depth': 476, 'min_samples_split': 0.7346740023932911, 'min_samples_leaf': 6, 'criterion': 'poisson'}. Best is trial 0 with value: -0.0009477553455904767.\n",
      "[I 2023-06-13 20:43:17,475] Trial 1 finished with value: 0.23412965151285625 and parameters: {'n_estimators': 33, 'max_depth': 434, 'min_samples_split': 0.6051038616257767, 'min_samples_leaf': 8, 'criterion': 'squared_error'}. Best is trial 1 with value: 0.23412965151285625.\n",
      "[I 2023-06-13 20:43:23,435] Trial 2 finished with value: 0.5432521526795651 and parameters: {'n_estimators': 417, 'max_depth': 107, 'min_samples_split': 0.19000671753502962, 'min_samples_leaf': 2, 'criterion': 'squared_error'}. Best is trial 2 with value: 0.5432521526795651.\n",
      "[I 2023-06-13 20:43:25,327] Trial 3 finished with value: 0.23421385417539234 and parameters: {'n_estimators': 219, 'max_depth': 147, 'min_samples_split': 0.6157343657751557, 'min_samples_leaf': 2, 'criterion': 'squared_error'}. Best is trial 2 with value: 0.5432521526795651.\n",
      "[I 2023-06-13 20:43:29,364] Trial 4 finished with value: 0.5431162180596131 and parameters: {'n_estimators': 231, 'max_depth': 393, 'min_samples_split': 0.20767704433677614, 'min_samples_leaf': 6, 'criterion': 'poisson'}. Best is trial 2 with value: 0.5432521526795651.\n",
      "[I 2023-06-13 20:43:37,646] Trial 5 finished with value: 0.5610130356708587 and parameters: {'n_estimators': 306, 'max_depth': 87, 'min_samples_split': 0.07440107705542671, 'min_samples_leaf': 10, 'criterion': 'poisson'}. Best is trial 5 with value: 0.5610130356708587.\n",
      "[I 2023-06-13 20:43:38,288] Trial 6 finished with value: -0.0009462416341907698 and parameters: {'n_estimators': 156, 'max_depth': 50, 'min_samples_split': 0.6873906962470353, 'min_samples_leaf': 5, 'criterion': 'squared_error'}. Best is trial 5 with value: 0.5610130356708587.\n",
      "[I 2023-06-13 20:43:38,588] Trial 7 finished with value: 0.5203089129859653 and parameters: {'n_estimators': 22, 'max_depth': 455, 'min_samples_split': 0.26619218178401677, 'min_samples_leaf': 7, 'criterion': 'squared_error'}. Best is trial 5 with value: 0.5610130356708587.\n",
      "[I 2023-06-13 20:43:39,865] Trial 8 finished with value: -0.0009283217964619617 and parameters: {'n_estimators': 276, 'max_depth': 94, 'min_samples_split': 0.9698887814869129, 'min_samples_leaf': 8, 'criterion': 'poisson'}. Best is trial 5 with value: 0.5610130356708587.\n",
      "[I 2023-06-13 20:43:46,056] Trial 9 finished with value: 0.5605738427427168 and parameters: {'n_estimators': 301, 'max_depth': 462, 'min_samples_split': 0.0976075770314003, 'min_samples_leaf': 2, 'criterion': 'squared_error'}. Best is trial 5 with value: 0.5610130356708587.\n",
      "[I 2023-06-13 20:44:03,190] Trial 10 finished with value: 0.5680641013491932 and parameters: {'n_estimators': 478, 'max_depth': 238, 'min_samples_split': 0.017471846123130352, 'min_samples_leaf': 10, 'criterion': 'poisson'}. Best is trial 10 with value: 0.5680641013491932.\n",
      "[I 2023-06-13 20:44:18,999] Trial 11 finished with value: 0.5691433451826647 and parameters: {'n_estimators': 455, 'max_depth': 260, 'min_samples_split': 0.020793504733021953, 'min_samples_leaf': 10, 'criterion': 'poisson'}. Best is trial 11 with value: 0.5691433451826647.\n",
      "[I 2023-06-13 20:44:35,296] Trial 12 finished with value: 0.5695892039865277 and parameters: {'n_estimators': 497, 'max_depth': 280, 'min_samples_split': 0.022488729857156706, 'min_samples_leaf': 10, 'criterion': 'poisson'}. Best is trial 12 with value: 0.5695892039865277.\n",
      "[I 2023-06-13 20:44:40,464] Trial 13 finished with value: 0.40563294411551537 and parameters: {'n_estimators': 486, 'max_depth': 308, 'min_samples_split': 0.3724237718817353, 'min_samples_leaf': 10, 'criterion': 'poisson'}. Best is trial 12 with value: 0.5695892039865277.\n",
      "[I 2023-06-13 20:44:44,601] Trial 14 finished with value: 0.4059249362165855 and parameters: {'n_estimators': 386, 'max_depth': 230, 'min_samples_split': 0.40526389550147857, 'min_samples_leaf': 4, 'criterion': 'poisson'}. Best is trial 12 with value: 0.5695892039865277.\n",
      "[I 2023-06-13 20:44:57,125] Trial 15 finished with value: 0.5698491764137789 and parameters: {'n_estimators': 390, 'max_depth': 317, 'min_samples_split': 0.02812808727317173, 'min_samples_leaf': 9, 'criterion': 'poisson'}. Best is trial 15 with value: 0.5698491764137789.\n",
      "[I 2023-06-13 20:45:03,521] Trial 16 finished with value: 0.5433588298142408 and parameters: {'n_estimators': 367, 'max_depth': 339, 'min_samples_split': 0.15246087608981918, 'min_samples_leaf': 8, 'criterion': 'poisson'}. Best is trial 15 with value: 0.5698491764137789.\n",
      "[I 2023-06-13 20:45:08,250] Trial 17 finished with value: 0.42553786321348 and parameters: {'n_estimators': 353, 'max_depth': 167, 'min_samples_split': 0.3104118378796724, 'min_samples_leaf': 9, 'criterion': 'poisson'}. Best is trial 15 with value: 0.5698491764137789.\n",
      "[I 2023-06-13 20:45:15,807] Trial 18 finished with value: 0.5433269512789066 and parameters: {'n_estimators': 429, 'max_depth': 355, 'min_samples_split': 0.16580254782495935, 'min_samples_leaf': 4, 'criterion': 'poisson'}. Best is trial 15 with value: 0.5698491764137789.\n",
      "[I 2023-06-13 20:45:34,931] Trial 19 finished with value: 0.5650337575065962 and parameters: {'n_estimators': 497, 'max_depth': 291, 'min_samples_split': 0.011778426172595445, 'min_samples_leaf': 9, 'criterion': 'poisson'}. Best is trial 15 with value: 0.5698491764137789.\n",
      "[I 2023-06-13 20:45:40,918] Trial 20 finished with value: 0.521597391300909 and parameters: {'n_estimators': 403, 'max_depth': 184, 'min_samples_split': 0.2512898195653316, 'min_samples_leaf': 7, 'criterion': 'poisson'}. Best is trial 15 with value: 0.5698491764137789.\n",
      "[I 2023-06-13 20:45:57,269] Trial 21 finished with value: 0.5661255033669409 and parameters: {'n_estimators': 448, 'max_depth': 272, 'min_samples_split': 0.014636645807355277, 'min_samples_leaf': 9, 'criterion': 'poisson'}. Best is trial 15 with value: 0.5698491764137789.\n",
      "[I 2023-06-13 20:46:04,343] Trial 22 finished with value: 0.5606530650786737 and parameters: {'n_estimators': 340, 'max_depth': 217, 'min_samples_split': 0.11914878016238219, 'min_samples_leaf': 10, 'criterion': 'poisson'}. Best is trial 15 with value: 0.5698491764137789.\n",
      "[I 2023-06-13 20:46:15,247] Trial 23 finished with value: 0.5605666276612212 and parameters: {'n_estimators': 457, 'max_depth': 382, 'min_samples_split': 0.09463345758959082, 'min_samples_leaf': 9, 'criterion': 'poisson'}. Best is trial 15 with value: 0.5698491764137789.\n",
      "[I 2023-06-13 20:46:23,698] Trial 24 finished with value: 0.5429117319662082 and parameters: {'n_estimators': 500, 'max_depth': 320, 'min_samples_split': 0.1788007978709169, 'min_samples_leaf': 10, 'criterion': 'poisson'}. Best is trial 15 with value: 0.5698491764137789.\n",
      "[I 2023-06-13 20:46:35,139] Trial 25 finished with value: 0.5609617004642884 and parameters: {'n_estimators': 436, 'max_depth': 266, 'min_samples_split': 0.0745285464650938, 'min_samples_leaf': 8, 'criterion': 'poisson'}. Best is trial 15 with value: 0.5698491764137789.\n",
      "[I 2023-06-13 20:46:36,808] Trial 26 finished with value: 0.5104710187529008 and parameters: {'n_estimators': 118, 'max_depth': 203, 'min_samples_split': 0.2739255762921102, 'min_samples_leaf': 7, 'criterion': 'poisson'}. Best is trial 15 with value: 0.5698491764137789.\n",
      "[I 2023-06-13 20:46:47,014] Trial 27 finished with value: 0.560869331576279 and parameters: {'n_estimators': 403, 'max_depth': 410, 'min_samples_split': 0.09115402359899975, 'min_samples_leaf': 9, 'criterion': 'poisson'}. Best is trial 15 with value: 0.5698491764137789.\n",
      "[I 2023-06-13 20:46:52,795] Trial 28 finished with value: 0.5435583188847583 and parameters: {'n_estimators': 341, 'max_depth': 260, 'min_samples_split': 0.21799755349947308, 'min_samples_leaf': 1, 'criterion': 'poisson'}. Best is trial 15 with value: 0.5698491764137789.\n",
      "[I 2023-06-13 20:46:57,859] Trial 29 finished with value: 0.40108157128280136 and parameters: {'n_estimators': 456, 'max_depth': 350, 'min_samples_split': 0.45151902984546616, 'min_samples_leaf': 6, 'criterion': 'poisson'}. Best is trial 15 with value: 0.5698491764137789.\n",
      "[I 2023-06-13 20:47:01,936] Trial 30 finished with value: 0.40250043494376825 and parameters: {'n_estimators': 390, 'max_depth': 299, 'min_samples_split': 0.3625882390669304, 'min_samples_leaf': 10, 'criterion': 'poisson'}. Best is trial 15 with value: 0.5698491764137789.\n",
      "[I 2023-06-13 20:47:18,198] Trial 31 finished with value: 0.567771229408649 and parameters: {'n_estimators': 472, 'max_depth': 235, 'min_samples_split': 0.01738001595804019, 'min_samples_leaf': 10, 'criterion': 'poisson'}. Best is trial 15 with value: 0.5698491764137789.\n",
      "[I 2023-06-13 20:47:34,295] Trial 32 finished with value: 0.5691792148748822 and parameters: {'n_estimators': 464, 'max_depth': 495, 'min_samples_split': 0.020564873987843353, 'min_samples_leaf': 9, 'criterion': 'poisson'}. Best is trial 15 with value: 0.5698491764137789.\n",
      "[I 2023-06-13 20:47:41,405] Trial 33 finished with value: 0.5436500532748542 and parameters: {'n_estimators': 445, 'max_depth': 486, 'min_samples_split': 0.14731170255027265, 'min_samples_leaf': 8, 'criterion': 'poisson'}. Best is trial 15 with value: 0.5698491764137789.\n",
      "[I 2023-06-13 20:47:50,246] Trial 34 finished with value: 0.5606638131138751 and parameters: {'n_estimators': 429, 'max_depth': 431, 'min_samples_split': 0.06435849282545672, 'min_samples_leaf': 9, 'criterion': 'squared_error'}. Best is trial 15 with value: 0.5698491764137789.\n",
      "[I 2023-06-13 20:47:51,326] Trial 35 finished with value: 0.5568712622011747 and parameters: {'n_estimators': 60, 'max_depth': 134, 'min_samples_split': 0.13618241379585333, 'min_samples_leaf': 8, 'criterion': 'poisson'}. Best is trial 15 with value: 0.5698491764137789.\n",
      "[I 2023-06-13 20:47:56,402] Trial 36 finished with value: 0.5431377125030535 and parameters: {'n_estimators': 379, 'max_depth': 17, 'min_samples_split': 0.2019713445265679, 'min_samples_leaf': 9, 'criterion': 'squared_error'}. Best is trial 15 with value: 0.5698491764137789.\n",
      "[I 2023-06-13 20:48:09,400] Trial 37 finished with value: 0.5613941622543624 and parameters: {'n_estimators': 468, 'max_depth': 367, 'min_samples_split': 0.053984450100730164, 'min_samples_leaf': 7, 'criterion': 'poisson'}. Best is trial 15 with value: 0.5698491764137789.\n",
      "[I 2023-06-13 20:48:15,783] Trial 38 finished with value: 0.5607946969792242 and parameters: {'n_estimators': 416, 'max_depth': 327, 'min_samples_split': 0.12509267223577927, 'min_samples_leaf': 10, 'criterion': 'squared_error'}. Best is trial 15 with value: 0.5698491764137789.\n",
      "[I 2023-06-13 20:48:21,280] Trial 39 finished with value: 0.543368153028846 and parameters: {'n_estimators': 317, 'max_depth': 415, 'min_samples_split': 0.21267142925071075, 'min_samples_leaf': 8, 'criterion': 'poisson'}. Best is trial 15 with value: 0.5698491764137789.\n",
      "[I 2023-06-13 20:48:28,470] Trial 40 finished with value: 0.5608597147129665 and parameters: {'n_estimators': 268, 'max_depth': 127, 'min_samples_split': 0.05731723945410483, 'min_samples_leaf': 5, 'criterion': 'poisson'}. Best is trial 15 with value: 0.5698491764137789.\n",
      "[I 2023-06-13 20:48:46,393] Trial 41 finished with value: 0.564470149342367 and parameters: {'n_estimators': 482, 'max_depth': 247, 'min_samples_split': 0.010759572322151526, 'min_samples_leaf': 10, 'criterion': 'poisson'}. Best is trial 15 with value: 0.5698491764137789.\n",
      "[I 2023-06-13 20:48:59,675] Trial 42 finished with value: 0.5613776135583691 and parameters: {'n_estimators': 473, 'max_depth': 193, 'min_samples_split': 0.05256762584001404, 'min_samples_leaf': 10, 'criterion': 'poisson'}. Best is trial 15 with value: 0.5698491764137789.\n",
      "[I 2023-06-13 20:49:10,049] Trial 43 finished with value: 0.5607082374965191 and parameters: {'n_estimators': 450, 'max_depth': 162, 'min_samples_split': 0.11581894034134227, 'min_samples_leaf': 9, 'criterion': 'poisson'}. Best is trial 15 with value: 0.5698491764137789.\n",
      "[I 2023-06-13 20:49:21,362] Trial 44 finished with value: 0.5613776616258319 and parameters: {'n_estimators': 416, 'max_depth': 291, 'min_samples_split': 0.05192299168970066, 'min_samples_leaf': 10, 'criterion': 'poisson'}. Best is trial 15 with value: 0.5698491764137789.\n",
      "[I 2023-06-13 20:49:24,545] Trial 45 finished with value: 0.5443189332851296 and parameters: {'n_estimators': 209, 'max_depth': 276, 'min_samples_split': 0.15426419167440308, 'min_samples_leaf': 9, 'criterion': 'squared_error'}. Best is trial 15 with value: 0.5698491764137789.\n",
      "[I 2023-06-13 20:49:36,031] Trial 46 finished with value: 0.5605304027440907 and parameters: {'n_estimators': 496, 'max_depth': 225, 'min_samples_split': 0.1075193773604357, 'min_samples_leaf': 10, 'criterion': 'poisson'}. Best is trial 15 with value: 0.5698491764137789.\n",
      "[I 2023-06-13 20:49:53,623] Trial 47 finished with value: 0.5672676252193692 and parameters: {'n_estimators': 471, 'max_depth': 467, 'min_samples_split': 0.017319830645731123, 'min_samples_leaf': 3, 'criterion': 'poisson'}. Best is trial 15 with value: 0.5698491764137789.\n",
      "[I 2023-06-13 20:49:59,791] Trial 48 finished with value: 0.5433283913155085 and parameters: {'n_estimators': 365, 'max_depth': 322, 'min_samples_split': 0.1868020404642738, 'min_samples_leaf': 9, 'criterion': 'poisson'}. Best is trial 15 with value: 0.5698491764137789.\n",
      "[I 2023-06-13 20:50:03,143] Trial 49 finished with value: 0.23420865608293615 and parameters: {'n_estimators': 401, 'max_depth': 247, 'min_samples_split': 0.5208359204296956, 'min_samples_leaf': 9, 'criterion': 'squared_error'}. Best is trial 15 with value: 0.5698491764137789.\n"
     ]
    },
    {
     "name": "stdout",
     "output_type": "stream",
     "text": [
      "Best trial: score 0.5698491764137789, params {'n_estimators': 390, 'max_depth': 317, 'min_samples_split': 0.02812808727317173, 'min_samples_leaf': 9, 'criterion': 'poisson'}\n"
     ]
    }
   ],
   "source": [
    "sampler = optuna.samplers.TPESampler(seed=42)\n",
    "study = optuna.create_study(direction='maximize', sampler=sampler)\n",
    "study.optimize(objective, n_trials=50)\n",
    "# Imprimir los resultados de la optimización\n",
    "print('Best trial: score {}, params {}'.format(study.best_trial.value, study.best_trial.params))"
   ]
  },
  {
   "cell_type": "code",
   "execution_count": null,
   "metadata": {},
   "outputs": [],
   "source": []
  }
 ],
 "metadata": {
  "kernelspec": {
   "display_name": "env",
   "language": "python",
   "name": "python3"
  },
  "language_info": {
   "codemirror_mode": {
    "name": "ipython",
    "version": 3
   },
   "file_extension": ".py",
   "mimetype": "text/x-python",
   "name": "python",
   "nbconvert_exporter": "python",
   "pygments_lexer": "ipython3",
   "version": "3.11.1"
  },
  "orig_nbformat": 4
 },
 "nbformat": 4,
 "nbformat_minor": 2
}
